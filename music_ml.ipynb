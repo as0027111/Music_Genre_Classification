{
 "cells": [
  {
   "cell_type": "code",
   "execution_count": 1,
   "metadata": {},
   "outputs": [
    {
     "name": "stdout",
     "output_type": "stream",
     "text": [
      "['blues', 'classical', 'country', 'disco', 'hiphop', 'jazz', 'metal', 'pop', 'reggae', 'rock']\n",
      "blues 50\n",
      "classical 50\n",
      "country 50\n",
      "disco 50\n",
      "hiphop 50\n",
      "jazz 50\n",
      "metal 50\n",
      "pop 50\n",
      "reggae 50\n",
      "rock 50\n",
      "500 500\n"
     ]
    }
   ],
   "source": [
    "import glob\n",
    "import os \n",
    "import scipy.io.wavfile as wav\n",
    "from scipy.fftpack import fft\n",
    "import numpy as np\n",
    "folder_path = 'data/'\n",
    "label = os.listdir(folder_path)\n",
    "print(label)\n",
    "\n",
    "music = {}\n",
    "genre_x = []\n",
    "genre_y = []\n",
    "for idx, folder_name in enumerate(label):\n",
    "    music[folder_name] = []\n",
    "    for i in glob.glob(folder_path + str(folder_name) + '/*.wav'):\n",
    "        rate, data = wav.read(i) # read .wav file\n",
    "        # print(len(data))\n",
    "        dataFFT = fft(data[0:67000])\n",
    "        dataFFTAbs = abs(dataFFT[0:67000])\n",
    "\n",
    "        music[folder_name].append(dataFFTAbs)\n",
    "        genre_x.append(dataFFTAbs)\n",
    "        genre_y.append(idx)\n",
    "    print(folder_name, len(music[folder_name]))\n",
    "print(len(genre_x), len(genre_y))"
   ]
  },
  {
   "cell_type": "code",
   "execution_count": 2,
   "metadata": {},
   "outputs": [
    {
     "name": "stdout",
     "output_type": "stream",
     "text": [
      "400 400 100 100\n"
     ]
    }
   ],
   "source": [
    "from sklearn.model_selection import train_test_split\n",
    "from tensorflow.keras.utils import to_categorical\n",
    "\n",
    "# print(np.array(genre_x).shape)\n",
    "# train_x , test_x , train_y , test_y = train_test_split(genre_x , genre_y , test_size = 0.2 , random_state = 42)\n",
    "train_x, train_y, test_x, test_y = [], [], [], []\n",
    "for idx, values in enumerate(music.values()):\n",
    "    # print(key, len(values[:40]))\n",
    "    train_x = train_x + values[:40]\n",
    "    train_y = train_y + [idx for num in range(len(values[:40]))]\n",
    "    test_x  = test_x + values[40:]\n",
    "    test_y  = test_y + [idx for num in range(len(values[40:]))]\n",
    "\n",
    "print(len(train_x), len(train_y), len(test_x), len(test_y))\n"
   ]
  },
  {
   "cell_type": "code",
   "execution_count": 3,
   "metadata": {},
   "outputs": [
    {
     "name": "stdout",
     "output_type": "stream",
     "text": [
      "Accuracy :  33.0\n"
     ]
    },
    {
     "data": {
      "text/plain": [
       "array([[0, 1, 2, 0, 0, 0, 6, 0, 1, 0],\n",
       "       [0, 9, 1, 0, 0, 0, 0, 0, 0, 0],\n",
       "       [1, 0, 2, 0, 0, 3, 4, 0, 0, 0],\n",
       "       [0, 1, 3, 2, 0, 0, 1, 0, 3, 0],\n",
       "       [0, 1, 2, 0, 4, 1, 0, 0, 2, 0],\n",
       "       [0, 4, 0, 0, 1, 3, 2, 0, 0, 0],\n",
       "       [0, 0, 0, 0, 1, 1, 8, 0, 0, 0],\n",
       "       [0, 0, 0, 3, 1, 2, 2, 2, 0, 0],\n",
       "       [0, 1, 1, 0, 0, 1, 5, 0, 2, 0],\n",
       "       [0, 1, 1, 0, 1, 0, 6, 0, 0, 1]], dtype=int64)"
      ]
     },
     "execution_count": 3,
     "metadata": {},
     "output_type": "execute_result"
    }
   ],
   "source": [
    "from sklearn.neighbors import KNeighborsClassifier\n",
    "from sklearn.model_selection import cross_val_score\n",
    "from sklearn.metrics import accuracy_score\n",
    "from sklearn.metrics import confusion_matrix\n",
    "\n",
    "knn = KNeighborsClassifier(n_neighbors=5)\n",
    "\n",
    "knn.fit(train_x, train_y)\n",
    "Y = knn.predict(test_x)\n",
    "print('Accuracy : ', accuracy_score(test_y , Y)*100)\n",
    "confusion_matrix(test_y, Y)\n",
    "\n",
    "# scores = cross_val_score(knn, genre_x, genre_y, cv=5, scoring='accuracy') # cv=num of fold\n",
    "# print(scores)\n",
    "# print(scores.mean())\n"
   ]
  },
  {
   "cell_type": "code",
   "execution_count": 4,
   "metadata": {},
   "outputs": [
    {
     "name": "stdout",
     "output_type": "stream",
     "text": [
      "accuracy :  27.0\n"
     ]
    }
   ],
   "source": [
    "from xgboost import XGBClassifier\n",
    "\n",
    "cls = XGBClassifier()\n",
    "\n",
    "cls.fit(train_x , train_y)\n",
    "Y = cls.predict(test_x)\n",
    "print('accuracy : ' , accuracy_score(test_y , Y)*100)\n",
    "\n",
    "# scores = cross_val_score(cls, genre_x, genre_y, cv=5, scoring='accuracy') # cv=num of fold\n",
    "# print(scores)\n",
    "# print(scores.mean())\n"
   ]
  },
  {
   "cell_type": "code",
   "execution_count": 5,
   "metadata": {},
   "outputs": [
    {
     "name": "stdout",
     "output_type": "stream",
     "text": [
      "Accuracy Score using Support Vector Machine Classifier =  31.0\n"
     ]
    },
    {
     "data": {
      "text/plain": [
       "array([[1, 0, 0, 0, 0, 0, 3, 0, 1, 5],\n",
       "       [1, 4, 3, 0, 0, 1, 0, 0, 0, 1],\n",
       "       [1, 0, 2, 0, 0, 2, 4, 0, 0, 1],\n",
       "       [0, 1, 1, 6, 1, 0, 0, 0, 0, 1],\n",
       "       [0, 1, 1, 0, 4, 2, 1, 0, 1, 0],\n",
       "       [2, 2, 2, 0, 1, 2, 0, 0, 0, 1],\n",
       "       [0, 0, 1, 0, 4, 0, 5, 0, 0, 0],\n",
       "       [0, 0, 0, 0, 5, 2, 0, 2, 0, 1],\n",
       "       [0, 1, 1, 1, 0, 1, 1, 0, 3, 2],\n",
       "       [0, 1, 1, 2, 0, 1, 3, 0, 0, 2]], dtype=int64)"
      ]
     },
     "execution_count": 5,
     "metadata": {},
     "output_type": "execute_result"
    }
   ],
   "source": [
    "from sklearn.svm import SVC\n",
    "\n",
    "svm_clf = SVC(gamma='scale', decision_function_shape='ovo')\n",
    "svm_clf.fit(train_x , train_y)\n",
    "pred = svm_clf.predict(test_x)\n",
    "print(\"Accuracy Score using Support Vector Machine Classifier = \", accuracy_score(test_y, pred)*100)\n",
    "confusion_matrix(test_y, pred)\n"
   ]
  },
  {
   "cell_type": "code",
   "execution_count": null,
   "metadata": {},
   "outputs": [],
   "source": []
  }
 ],
 "metadata": {
  "interpreter": {
   "hash": "adeb4cd267995bfed23d634fa3fb89f749a07f42944a1d7f572c8b7d6e02a785"
  },
  "kernelspec": {
   "display_name": "Python 3.7.13 ('multimedia_HW')",
   "language": "python",
   "name": "python3"
  },
  "language_info": {
   "codemirror_mode": {
    "name": "ipython",
    "version": 3
   },
   "file_extension": ".py",
   "mimetype": "text/x-python",
   "name": "python",
   "nbconvert_exporter": "python",
   "pygments_lexer": "ipython3",
   "version": "3.7.13"
  },
  "orig_nbformat": 4
 },
 "nbformat": 4,
 "nbformat_minor": 2
}
